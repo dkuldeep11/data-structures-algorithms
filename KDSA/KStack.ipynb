{
 "metadata": {
  "name": ""
 },
 "nbformat": 3,
 "nbformat_minor": 0,
 "worksheets": [
  {
   "cells": [
    {
     "cell_type": "code",
     "collapsed": false,
     "input": [
      "from LLNode import Node\n",
      "\n",
      "class Stack:\n",
      "    \"\"\"Class for Stack, works on Last in First Out fashion.\n",
      "    \n",
      "    Attributes:\n",
      "        top (Node): holds the value of top entry\n",
      "        \n",
      "    \"\"\"\n",
      "    \n",
      "    def __init__(self):\n",
      "        \"\"\"creates the object of Stack\"\"\"\n",
      "        self.top = None\n",
      "        \n",
      "    \n",
      "    def is_empty(self):\n",
      "        \"\"\"checks if stack is empty.\n",
      "        \n",
      "        Returns:\n",
      "            True/False\n",
      "        \"\"\"\n",
      "        pass\n",
      "    \n",
      "    \n",
      "    def push(self, value):\n",
      "        \"\"\"adds the entry to the stack.\n",
      "        \n",
      "        Attri:\n",
      "            value (int): value to be added\n",
      "        \"\"\"\n",
      "        pass\n",
      "    \n",
      "    \n",
      "    def pop(self):\n",
      "        \"\"\"returns the element at top position and deletes the top entry.\n",
      "        \n",
      "        Returns:\n",
      "            value (int): returns value at top position\n",
      "        \"\"\"\n",
      "        pass\n",
      "    \n",
      "    \n",
      "    def show(self):\n",
      "        \"\"\"prints the contents of stack from top -> bottom.\"\"\"\n",
      "        pass\n",
      "    \n",
      "    def peek(self):\n",
      "        \"\"\"returns the value at top position.\"\"\"\n",
      "        pass\n",
      "    \n",
      "    \n",
      "    def sort(self):\n",
      "        \"\"\"sorts the stack contents.\"\"\"\n",
      "        pass\n",
      "    \n",
      "    \n",
      "    if __name__ == \"__main__\":\n",
      "        print \"Welcome to the Stack demo....\\n\""
     ],
     "language": "python",
     "metadata": {},
     "outputs": [
      {
       "output_type": "stream",
       "stream": "stdout",
       "text": [
        "Welcome to the Stack demo....\n",
        "\n"
       ]
      }
     ],
     "prompt_number": 1
    },
    {
     "cell_type": "code",
     "collapsed": false,
     "input": [],
     "language": "python",
     "metadata": {},
     "outputs": []
    }
   ],
   "metadata": {}
  }
 ]
}