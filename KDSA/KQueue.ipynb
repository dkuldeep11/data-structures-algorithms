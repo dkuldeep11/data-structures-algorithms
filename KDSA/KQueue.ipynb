{
 "metadata": {
  "name": ""
 },
 "nbformat": 3,
 "nbformat_minor": 0,
 "worksheets": [
  {
   "cells": [
    {
     "cell_type": "code",
     "collapsed": false,
     "input": [
      "from LLNode import Node\n",
      "\n",
      "class Queue:\n",
      "    \"\"\"This is Queue Class implementation.\n",
      "    \n",
      "    Attriubutes:\n",
      "        front (Node): holds the value of front entry\n",
      "        rear (Node) : holds the value of rear entry\n",
      "    \"\"\"\n",
      "    \n",
      "    \n",
      "    def __init__(self):\n",
      "        \"\"\"it creates the Queue object\"\"\"\n",
      "        self.front = None\n",
      "        self.rear = None\n",
      "        \n",
      "        \n",
      "    def is_empty(self):\n",
      "        \"\"\"checks id Queue is empty.\n",
      "        \n",
      "        Returns:\n",
      "            True/False\n",
      "        \"\"\"\n",
      "        pass\n",
      "    \n",
      "    \n",
      "    def enqueue(self, value):\n",
      "        \"\"\"adds the entry to the rear position\"\"\"\n",
      "        pass\n",
      "    \n",
      "    \n",
      "    def dequeue(self):\n",
      "        \"\"\"returns the value at front position and deletes front.\"\"\"\n",
      "        pass\n",
      "    \n",
      "    \n",
      "    def show(self):\n",
      "        \"\"\"prints the contents of Queue from front -> rear.\"\"\"\n",
      "        pass\n",
      "    \n",
      "    \n",
      "    def sort(self):\n",
      "        \"\"\"sorts the queue.\"\"\"\n",
      "        pass\n",
      "    \n",
      "    \n",
      "    \n",
      "if __name__ == \"__main__\":\n",
      "    print \"Welcome to the Queue demo...\\n\"\n",
      "    \n",
      "    \n",
      "    "
     ],
     "language": "python",
     "metadata": {},
     "outputs": [
      {
       "output_type": "stream",
       "stream": "stdout",
       "text": [
        "Welcome to the Queue demo...\n",
        "\n"
       ]
      }
     ],
     "prompt_number": 5
    },
    {
     "cell_type": "code",
     "collapsed": false,
     "input": [],
     "language": "python",
     "metadata": {},
     "outputs": []
    }
   ],
   "metadata": {}
  }
 ]
}